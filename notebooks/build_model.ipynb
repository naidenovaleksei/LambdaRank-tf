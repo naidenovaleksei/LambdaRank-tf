{
 "cells": [
  {
   "cell_type": "markdown",
   "metadata": {},
   "source": [
    "## libs"
   ]
  },
  {
   "cell_type": "code",
   "execution_count": 1,
   "metadata": {},
   "outputs": [],
   "source": [
    "import yaml\n",
    "import numpy as np\n",
    "import my_data\n",
    "import nn"
   ]
  },
  {
   "cell_type": "code",
   "execution_count": 2,
   "metadata": {},
   "outputs": [],
   "source": [
    "CONFIG_NAME = \"config17.yaml\""
   ]
  },
  {
   "cell_type": "markdown",
   "metadata": {},
   "source": [
    "## data"
   ]
  },
  {
   "cell_type": "code",
   "execution_count": 3,
   "metadata": {},
   "outputs": [
    {
     "name": "stdout",
     "output_type": "stream",
     "text": [
      "CPU times: user 587 ms, sys: 1.34 s, total: 1.93 s\n",
      "Wall time: 5.12 s\n"
     ]
    }
   ],
   "source": [
    "%%time\n",
    "X_train, y_train = my_data.get_data()\n",
    "X_test, y_test = my_data.get_data_test()\n",
    "inds = my_data.get_inds()\n",
    "inds_test = my_data.get_inds_test()"
   ]
  },
  {
   "cell_type": "markdown",
   "metadata": {},
   "source": [
    "## select features"
   ]
  },
  {
   "cell_type": "code",
   "execution_count": 4,
   "metadata": {},
   "outputs": [],
   "source": [
    "selected_features = my_data.get_selected_features(X_train)\n",
    "X_train = X_train[:,selected_features]\n",
    "X_test = X_test[:,selected_features]\n",
    "assert X_train.shape[1] == 519\n",
    "assert X_test.shape[1] == 519"
   ]
  },
  {
   "cell_type": "markdown",
   "metadata": {},
   "source": [
    "## config"
   ]
  },
  {
   "cell_type": "code",
   "execution_count": 5,
   "metadata": {},
   "outputs": [
    {
     "name": "stderr",
     "output_type": "stream",
     "text": [
      "/home/aleks/anaconda3/lib/python3.7/site-packages/ipykernel_launcher.py:2: YAMLLoadWarning: calling yaml.load() without Loader=... is deprecated, as the default Loader is unsafe. Please read https://msg.pyyaml.org/load for full details.\n",
      "  \n"
     ]
    }
   ],
   "source": [
    "with open(CONFIG_NAME, \"r\") as f:\n",
    "    config = yaml.load(f)"
   ]
  },
  {
   "cell_type": "markdown",
   "metadata": {},
   "source": [
    "## create train and test dataset"
   ]
  },
  {
   "cell_type": "code",
   "execution_count": 6,
   "metadata": {},
   "outputs": [],
   "source": [
    "generator_config = config['generator']"
   ]
  },
  {
   "cell_type": "code",
   "execution_count": 7,
   "metadata": {},
   "outputs": [],
   "source": [
    "# y_train = y_train + np.random.normal(scale=0.01, size=y_train.shape[0])"
   ]
  },
  {
   "cell_type": "code",
   "execution_count": 8,
   "metadata": {},
   "outputs": [],
   "source": [
    "# query_generator = my_data.get_query_generator(inds, X, y, min_length=1, drop_all_zeros=True)\n",
    "query_generator = my_data.get_query_generator(inds, X_train, y_train, **generator_config)"
   ]
  },
  {
   "cell_type": "code",
   "execution_count": 9,
   "metadata": {},
   "outputs": [
    {
     "name": "stdout",
     "output_type": "stream",
     "text": [
      "CPU times: user 10.2 s, sys: 780 ms, total: 11 s\n",
      "Wall time: 11 s\n"
     ]
    }
   ],
   "source": [
    "%%time\n",
    "data = np.array(list(query_generator))"
   ]
  },
  {
   "cell_type": "code",
   "execution_count": 10,
   "metadata": {},
   "outputs": [],
   "source": [
    "test_size = config['data']['test_size']"
   ]
  },
  {
   "cell_type": "code",
   "execution_count": 11,
   "metadata": {},
   "outputs": [],
   "source": [
    "np.random.seed(42)\n",
    "test_inds = np.random.choice(np.arange(len(data)), test_size, replace=False)\n",
    "train_inds = ~np.isin(np.arange(len(data)), test_inds)"
   ]
  },
  {
   "cell_type": "code",
   "execution_count": 12,
   "metadata": {},
   "outputs": [],
   "source": [
    "assert train_inds.sum() + test_inds.size == data.shape[0]\n",
    "assert test_inds.size == test_size"
   ]
  },
  {
   "cell_type": "code",
   "execution_count": 13,
   "metadata": {},
   "outputs": [
    {
     "name": "stdout",
     "output_type": "stream",
     "text": [
      "[ 6444  7051    42 16719  4401]\n",
      "[130  10 477 462  21]\n"
     ]
    }
   ],
   "source": [
    "np.random.seed(42)\n",
    "data_generator_train = nn.DataGenerator(data[train_inds,:])\n",
    "data_generator_test = nn.DataGenerator(data[test_inds,:])"
   ]
  },
  {
   "cell_type": "code",
   "execution_count": 14,
   "metadata": {},
   "outputs": [],
   "source": [
    "# [ 6444  7051    42 16719  4401]\n",
    "# [130  10 477 462  21]"
   ]
  },
  {
   "cell_type": "code",
   "execution_count": 15,
   "metadata": {},
   "outputs": [],
   "source": [
    "build_config = config['build']\n",
    "metric_config = config['metric']\n",
    "callback_config = config.get('callback', {})"
   ]
  },
  {
   "cell_type": "code",
   "execution_count": 16,
   "metadata": {},
   "outputs": [
    {
     "data": {
      "text/plain": [
       "{'optimizer': 'adam',\n",
       " 'input_dim': 519,\n",
       " 'layer_dims': [512, 128, 32],\n",
       " 'loss_function': 'lambdarank',\n",
       " 'epochs': 100,\n",
       " 'dropout': 0.5}"
      ]
     },
     "execution_count": 16,
     "metadata": {},
     "output_type": "execute_result"
    }
   ],
   "source": [
    "build_config"
   ]
  },
  {
   "cell_type": "code",
   "execution_count": 17,
   "metadata": {},
   "outputs": [
    {
     "data": {
      "text/plain": [
       "{}"
      ]
     },
     "execution_count": 17,
     "metadata": {},
     "output_type": "execute_result"
    }
   ],
   "source": [
    "callback_config"
   ]
  },
  {
   "cell_type": "code",
   "execution_count": 18,
   "metadata": {},
   "outputs": [],
   "source": [
    "optimizer = nn.get_optimizer(build_config['optimizer'])\n",
    "model = nn.get_model(build_config['input_dim'], build_config['layer_dims'], build_config.get('dropout'))\n",
    "loss_function = nn.get_loss_function(build_config['loss_function'])\n",
    "basic_metric = nn.get_metric(**metric_config)\n",
    "model_name = config['name']\n",
    "if len(callback_config) == 0:\n",
    "    callbacks = nn.get_callbacks(model_name, monitor=None, patience=None)\n",
    "else:\n",
    "    callbacks = nn.get_callbacks(model_name, **callback_config)\n",
    "\n",
    "model.compile(\n",
    "    optimizer=optimizer,\n",
    "    loss=loss_function, \n",
    "    metrics=[basic_metric]\n",
    ")"
   ]
  },
  {
   "cell_type": "code",
   "execution_count": 19,
   "metadata": {},
   "outputs": [],
   "source": [
    "# query_generator_sample = my_data.get_query_generator(inds, X, y, equal_length=4, drop_all_zeros=True, only_one_sample=True)\n",
    "# model.fit(x=query_generator_sample, epochs=1)"
   ]
  },
  {
   "cell_type": "code",
   "execution_count": 20,
   "metadata": {},
   "outputs": [
    {
     "data": {
      "text/plain": [
       "'config17.yaml'"
      ]
     },
     "execution_count": 20,
     "metadata": {},
     "output_type": "execute_result"
    }
   ],
   "source": [
    "CONFIG_NAME"
   ]
  },
  {
   "cell_type": "code",
   "execution_count": 21,
   "metadata": {
    "scrolled": true
   },
   "outputs": [
    {
     "name": "stdout",
     "output_type": "stream",
     "text": [
      "WARNING:tensorflow:sample_weight modes were coerced from\n",
      "  ...\n",
      "    to  \n",
      "  ['...']\n",
      "WARNING:tensorflow:sample_weight modes were coerced from\n",
      "  ...\n",
      "    to  \n",
      "  ['...']\n",
      "Train for 18633 steps, validate for 500 steps\n",
      "Epoch 1/100\n",
      "18633/18633 [==============================] - 85s 5ms/step - loss: 0.6880 - basic_metric: 0.6642 - val_loss: 0.6857 - val_basic_metric: 0.7135\n",
      "Epoch 2/100\n",
      "18633/18633 [==============================] - 83s 4ms/step - loss: 0.6870 - basic_metric: 0.6813 - val_loss: 0.6855 - val_basic_metric: 0.7240\n",
      "Epoch 3/100\n",
      "18633/18633 [==============================] - 85s 5ms/step - loss: 0.6864 - basic_metric: 0.6901 - val_loss: 0.6845 - val_basic_metric: 0.7214\n",
      "Epoch 4/100\n",
      "18633/18633 [==============================] - 70s 4ms/step - loss: 0.6859 - basic_metric: 0.6953 - val_loss: 0.6861 - val_basic_metric: 0.7219\n",
      "Epoch 5/100\n",
      "18633/18633 [==============================] - 77s 4ms/step - loss: 0.6858 - basic_metric: 0.6967 - val_loss: 0.6844 - val_basic_metric: 0.7258\n",
      "Epoch 6/100\n",
      "18633/18633 [==============================] - 83s 4ms/step - loss: 0.6857 - basic_metric: 0.6987 - val_loss: 0.6855 - val_basic_metric: 0.7255\n",
      "Epoch 7/100\n",
      "18633/18633 [==============================] - 82s 4ms/step - loss: 0.6854 - basic_metric: 0.6996 - val_loss: 0.6849 - val_basic_metric: 0.7218\n",
      "Epoch 8/100\n",
      "18633/18633 [==============================] - 82s 4ms/step - loss: 0.6852 - basic_metric: 0.7030 - val_loss: 0.6842 - val_basic_metric: 0.7258\n",
      "Epoch 9/100\n",
      "18633/18633 [==============================] - 86s 5ms/step - loss: 0.6852 - basic_metric: 0.7032 - val_loss: 0.6847 - val_basic_metric: 0.7273\n",
      "Epoch 10/100\n",
      "18633/18633 [==============================] - 82s 4ms/step - loss: 0.6850 - basic_metric: 0.7046 - val_loss: 0.6843 - val_basic_metric: 0.7305\n",
      "Epoch 11/100\n",
      "18633/18633 [==============================] - 83s 4ms/step - loss: 0.6850 - basic_metric: 0.7064 - val_loss: 0.6822 - val_basic_metric: 0.7253\n",
      "Epoch 12/100\n",
      "18633/18633 [==============================] - 85s 5ms/step - loss: 0.6848 - basic_metric: 0.7065 - val_loss: 0.6843 - val_basic_metric: 0.7289\n",
      "Epoch 13/100\n",
      "18633/18633 [==============================] - 84s 5ms/step - loss: 0.6848 - basic_metric: 0.7082 - val_loss: 0.6850 - val_basic_metric: 0.7277\n",
      "Epoch 14/100\n",
      "18633/18633 [==============================] - 87s 5ms/step - loss: 0.6847 - basic_metric: 0.7084 - val_loss: 0.6844 - val_basic_metric: 0.7281\n",
      "Epoch 15/100\n",
      "18633/18633 [==============================] - 88s 5ms/step - loss: 0.6846 - basic_metric: 0.7099 - val_loss: 0.6842 - val_basic_metric: 0.7283\n",
      "Epoch 16/100\n",
      "18633/18633 [==============================] - 86s 5ms/step - loss: 0.6845 - basic_metric: 0.7110 - val_loss: 0.6828 - val_basic_metric: 0.7291\n",
      "Epoch 17/100\n",
      "18633/18633 [==============================] - 85s 5ms/step - loss: 0.6845 - basic_metric: 0.7112 - val_loss: 0.6842 - val_basic_metric: 0.7313\n",
      "Epoch 18/100\n",
      "18633/18633 [==============================] - 85s 5ms/step - loss: 0.6844 - basic_metric: 0.7108 - val_loss: 0.6845 - val_basic_metric: 0.7256\n",
      "Epoch 19/100\n",
      "18633/18633 [==============================] - 92s 5ms/step - loss: 0.6844 - basic_metric: 0.7130 - val_loss: 0.6834 - val_basic_metric: 0.7345\n",
      "Epoch 20/100\n",
      "18633/18633 [==============================] - 86s 5ms/step - loss: 0.6843 - basic_metric: 0.7137 - val_loss: 0.6837 - val_basic_metric: 0.7315\n",
      "Epoch 21/100\n",
      "18633/18633 [==============================] - 83s 4ms/step - loss: 0.6842 - basic_metric: 0.7136 - val_loss: 0.6829 - val_basic_metric: 0.7334\n",
      "Epoch 22/100\n",
      "18633/18633 [==============================] - 86s 5ms/step - loss: 0.6841 - basic_metric: 0.7153 - val_loss: 0.6822 - val_basic_metric: 0.7336\n",
      "Epoch 23/100\n",
      "18633/18633 [==============================] - 92s 5ms/step - loss: 0.6841 - basic_metric: 0.7170 - val_loss: 0.6839 - val_basic_metric: 0.7349\n",
      "Epoch 24/100\n",
      "18633/18633 [==============================] - 94s 5ms/step - loss: 0.6842 - basic_metric: 0.7147 - val_loss: 0.6845 - val_basic_metric: 0.7357\n",
      "Epoch 25/100\n",
      "18633/18633 [==============================] - 94s 5ms/step - loss: 0.6840 - basic_metric: 0.7166 - val_loss: 0.6831 - val_basic_metric: 0.7398\n",
      "Epoch 26/100\n",
      "18633/18633 [==============================] - 91s 5ms/step - loss: 0.6840 - basic_metric: 0.7153 - val_loss: 0.6830 - val_basic_metric: 0.7288\n",
      "Epoch 27/100\n",
      "18633/18633 [==============================] - 84s 5ms/step - loss: 0.6839 - basic_metric: 0.7171 - val_loss: 0.6823 - val_basic_metric: 0.7297\n",
      "Epoch 28/100\n",
      "18633/18633 [==============================] - 83s 4ms/step - loss: 0.6838 - basic_metric: 0.7168 - val_loss: 0.6836 - val_basic_metric: 0.7354\n",
      "Epoch 29/100\n",
      "18633/18633 [==============================] - 84s 4ms/step - loss: 0.6839 - basic_metric: 0.7177 - val_loss: 0.6836 - val_basic_metric: 0.7302\n",
      "Epoch 30/100\n",
      "18633/18633 [==============================] - 83s 4ms/step - loss: 0.6837 - basic_metric: 0.7177 - val_loss: 0.6825 - val_basic_metric: 0.7333\n",
      "Epoch 31/100\n",
      "18633/18633 [==============================] - 92s 5ms/step - loss: 0.6837 - basic_metric: 0.7181 - val_loss: 0.6815 - val_basic_metric: 0.7383\n",
      "Epoch 32/100\n",
      "18633/18633 [==============================] - 94s 5ms/step - loss: 0.6836 - basic_metric: 0.7179 - val_loss: 0.6832 - val_basic_metric: 0.7342\n",
      "Epoch 33/100\n",
      "18633/18633 [==============================] - 94s 5ms/step - loss: 0.6837 - basic_metric: 0.7179 - val_loss: 0.6838 - val_basic_metric: 0.7379\n",
      "Epoch 34/100\n",
      "18633/18633 [==============================] - 90s 5ms/step - loss: 0.6836 - basic_metric: 0.7204 - val_loss: 0.6854 - val_basic_metric: 0.7336\n",
      "Epoch 35/100\n",
      "18633/18633 [==============================] - 97s 5ms/step - loss: 0.6837 - basic_metric: 0.7199 - val_loss: 0.6829 - val_basic_metric: 0.7328\n",
      "Epoch 36/100\n",
      "18633/18633 [==============================] - 93s 5ms/step - loss: 0.6835 - basic_metric: 0.7207 - val_loss: 0.6835 - val_basic_metric: 0.7306\n",
      "Epoch 37/100\n",
      "18633/18633 [==============================] - 86s 5ms/step - loss: 0.6835 - basic_metric: 0.7218 - val_loss: 0.6844 - val_basic_metric: 0.7371\n",
      "Epoch 38/100\n",
      "18633/18633 [==============================] - 86s 5ms/step - loss: 0.6833 - basic_metric: 0.7202 - val_loss: 0.6822 - val_basic_metric: 0.7377\n",
      "Epoch 39/100\n",
      "18633/18633 [==============================] - 86s 5ms/step - loss: 0.6834 - basic_metric: 0.7208 - val_loss: 0.6793 - val_basic_metric: 0.7299\n",
      "Epoch 40/100\n",
      "18633/18633 [==============================] - 87s 5ms/step - loss: 0.6834 - basic_metric: 0.7212 - val_loss: 0.6826 - val_basic_metric: 0.7367\n",
      "Epoch 41/100\n",
      "18633/18633 [==============================] - 83s 4ms/step - loss: 0.6833 - basic_metric: 0.7223 - val_loss: 0.6832 - val_basic_metric: 0.7381\n",
      "Epoch 42/100\n",
      "18633/18633 [==============================] - 84s 5ms/step - loss: 0.6833 - basic_metric: 0.7223 - val_loss: 0.6805 - val_basic_metric: 0.7361\n",
      "Epoch 43/100\n",
      "18633/18633 [==============================] - 89s 5ms/step - loss: 0.6833 - basic_metric: 0.7221 - val_loss: 0.6835 - val_basic_metric: 0.7362\n",
      "Epoch 44/100\n",
      "18633/18633 [==============================] - 93s 5ms/step - loss: 0.6832 - basic_metric: 0.7227 - val_loss: 0.6841 - val_basic_metric: 0.7377\n",
      "Epoch 45/100\n",
      "18633/18633 [==============================] - 91s 5ms/step - loss: 0.6833 - basic_metric: 0.7223 - val_loss: 0.6843 - val_basic_metric: 0.7345\n",
      "Epoch 46/100\n",
      "18633/18633 [==============================] - 93s 5ms/step - loss: 0.6830 - basic_metric: 0.7234 - val_loss: 0.6836 - val_basic_metric: 0.7417\n",
      "Epoch 47/100\n",
      "18633/18633 [==============================] - 91s 5ms/step - loss: 0.6831 - basic_metric: 0.7237 - val_loss: 0.6817 - val_basic_metric: 0.7388\n",
      "Epoch 48/100\n",
      "18633/18633 [==============================] - 84s 4ms/step - loss: 0.6830 - basic_metric: 0.7244 - val_loss: 0.6804 - val_basic_metric: 0.7358\n",
      "Epoch 49/100\n",
      "18633/18633 [==============================] - 85s 5ms/step - loss: 0.6831 - basic_metric: 0.7241 - val_loss: 0.6809 - val_basic_metric: 0.7368\n",
      "Epoch 50/100\n",
      "18633/18633 [==============================] - 85s 5ms/step - loss: 0.6831 - basic_metric: 0.7247 - val_loss: 0.6805 - val_basic_metric: 0.7388\n",
      "Epoch 51/100\n",
      "18633/18633 [==============================] - 95s 5ms/step - loss: 0.6829 - basic_metric: 0.7251 - val_loss: 0.6822 - val_basic_metric: 0.7353\n",
      "Epoch 52/100\n",
      "18633/18633 [==============================] - 95s 5ms/step - loss: 0.6828 - basic_metric: 0.7258 - val_loss: 0.6833 - val_basic_metric: 0.7371\n",
      "Epoch 53/100\n",
      "18633/18633 [==============================] - 94s 5ms/step - loss: 0.6829 - basic_metric: 0.7247 - val_loss: 0.6828 - val_basic_metric: 0.7378\n",
      "Epoch 54/100\n",
      "18633/18633 [==============================] - 96s 5ms/step - loss: 0.6829 - basic_metric: 0.7269 - val_loss: 0.6817 - val_basic_metric: 0.7386\n",
      "Epoch 55/100\n",
      "18633/18633 [==============================] - 95s 5ms/step - loss: 0.6828 - basic_metric: 0.7272 - val_loss: 0.6834 - val_basic_metric: 0.7335\n",
      "Epoch 56/100\n",
      "18633/18633 [==============================] - 99s 5ms/step - loss: 0.6827 - basic_metric: 0.7271 - val_loss: 0.6824 - val_basic_metric: 0.7409\n",
      "Epoch 57/100\n",
      "18633/18633 [==============================] - 95s 5ms/step - loss: 0.6827 - basic_metric: 0.7279 - val_loss: 0.6827 - val_basic_metric: 0.7404\n",
      "Epoch 58/100\n",
      "18633/18633 [==============================] - 96s 5ms/step - loss: 0.6827 - basic_metric: 0.7277 - val_loss: 0.6819 - val_basic_metric: 0.7363\n",
      "Epoch 59/100\n",
      "18633/18633 [==============================] - 94s 5ms/step - loss: 0.6827 - basic_metric: 0.7279 - val_loss: 0.6830 - val_basic_metric: 0.7359\n",
      "Epoch 60/100\n",
      "18633/18633 [==============================] - 95s 5ms/step - loss: 0.6827 - basic_metric: 0.7286 - val_loss: 0.6827 - val_basic_metric: 0.7379\n",
      "Epoch 61/100\n",
      "18633/18633 [==============================] - 89s 5ms/step - loss: 0.6825 - basic_metric: 0.7280 - val_loss: 0.6815 - val_basic_metric: 0.7376\n",
      "Epoch 62/100\n",
      "18633/18633 [==============================] - 87s 5ms/step - loss: 0.6826 - basic_metric: 0.7294 - val_loss: 0.6824 - val_basic_metric: 0.7353\n",
      "Epoch 63/100\n",
      "18633/18633 [==============================] - 96s 5ms/step - loss: 0.6825 - basic_metric: 0.7296 - val_loss: 0.6831 - val_basic_metric: 0.7333\n",
      "Epoch 64/100\n",
      "18633/18633 [==============================] - 94s 5ms/step - loss: 0.6824 - basic_metric: 0.7296 - val_loss: 0.6819 - val_basic_metric: 0.7338\n",
      "Epoch 65/100\n",
      "18633/18633 [==============================] - 97s 5ms/step - loss: 0.6824 - basic_metric: 0.7289 - val_loss: 0.6846 - val_basic_metric: 0.7368\n",
      "Epoch 66/100\n",
      "18633/18633 [==============================] - 96s 5ms/step - loss: 0.6824 - basic_metric: 0.7305 - val_loss: 0.6817 - val_basic_metric: 0.7385\n",
      "Epoch 67/100\n",
      "18633/18633 [==============================] - 93s 5ms/step - loss: 0.6824 - basic_metric: 0.7304 - val_loss: 0.6811 - val_basic_metric: 0.7320\n",
      "Epoch 68/100\n",
      "18633/18633 [==============================] - 93s 5ms/step - loss: 0.6825 - basic_metric: 0.7295 - val_loss: 0.6815 - val_basic_metric: 0.7380\n",
      "Epoch 69/100\n",
      "18633/18633 [==============================] - 97s 5ms/step - loss: 0.6824 - basic_metric: 0.7295 - val_loss: 0.6818 - val_basic_metric: 0.7412\n",
      "Epoch 70/100\n",
      "18633/18633 [==============================] - 94s 5ms/step - loss: 0.6825 - basic_metric: 0.7302 - val_loss: 0.6847 - val_basic_metric: 0.7306\n",
      "Epoch 71/100\n",
      "18633/18633 [==============================] - 98s 5ms/step - loss: 0.6824 - basic_metric: 0.7314 - val_loss: 0.6834 - val_basic_metric: 0.7358\n",
      "Epoch 72/100\n",
      "18633/18633 [==============================] - 85s 5ms/step - loss: 0.6821 - basic_metric: 0.7324 - val_loss: 0.6810 - val_basic_metric: 0.7382\n",
      "Epoch 73/100\n",
      "18633/18633 [==============================] - 83s 4ms/step - loss: 0.6822 - basic_metric: 0.7323 - val_loss: 0.6835 - val_basic_metric: 0.7384\n",
      "Epoch 74/100\n",
      "18633/18633 [==============================] - 84s 5ms/step - loss: 0.6821 - basic_metric: 0.7319 - val_loss: 0.6836 - val_basic_metric: 0.7355\n",
      "Epoch 75/100\n",
      "18633/18633 [==============================] - 88s 5ms/step - loss: 0.6821 - basic_metric: 0.7332 - val_loss: 0.6831 - val_basic_metric: 0.7368\n",
      "Epoch 76/100\n",
      "18633/18633 [==============================] - 92s 5ms/step - loss: 0.6823 - basic_metric: 0.7319 - val_loss: 0.6802 - val_basic_metric: 0.7376\n",
      "Epoch 77/100\n",
      "18633/18633 [==============================] - 87s 5ms/step - loss: 0.6821 - basic_metric: 0.7330 - val_loss: 0.6837 - val_basic_metric: 0.7398\n",
      "Epoch 78/100\n",
      "18633/18633 [==============================] - 84s 5ms/step - loss: 0.6821 - basic_metric: 0.7323 - val_loss: 0.6828 - val_basic_metric: 0.7395\n",
      "Epoch 79/100\n",
      "18633/18633 [==============================] - 84s 5ms/step - loss: 0.6820 - basic_metric: 0.7344 - val_loss: 0.6837 - val_basic_metric: 0.7311\n",
      "Epoch 80/100\n",
      "18633/18633 [==============================] - 84s 5ms/step - loss: 0.6822 - basic_metric: 0.7328 - val_loss: 0.6841 - val_basic_metric: 0.7401\n",
      "Epoch 81/100\n",
      "18633/18633 [==============================] - 84s 4ms/step - loss: 0.6821 - basic_metric: 0.7333 - val_loss: 0.6805 - val_basic_metric: 0.7373\n",
      "Epoch 82/100\n",
      "18633/18633 [==============================] - 85s 5ms/step - loss: 0.6820 - basic_metric: 0.7342 - val_loss: 0.6822 - val_basic_metric: 0.7424\n",
      "Epoch 83/100\n",
      "18633/18633 [==============================] - 84s 5ms/step - loss: 0.6819 - basic_metric: 0.7348 - val_loss: 0.6826 - val_basic_metric: 0.7329\n",
      "Epoch 84/100\n",
      "18633/18633 [==============================] - 84s 5ms/step - loss: 0.6819 - basic_metric: 0.7346 - val_loss: 0.6831 - val_basic_metric: 0.7380\n",
      "Epoch 85/100\n",
      "18633/18633 [==============================] - 85s 5ms/step - loss: 0.6819 - basic_metric: 0.7355 - val_loss: 0.6813 - val_basic_metric: 0.7343\n",
      "Epoch 86/100\n",
      "18633/18633 [==============================] - 84s 5ms/step - loss: 0.6820 - basic_metric: 0.7338 - val_loss: 0.6827 - val_basic_metric: 0.7383\n",
      "Epoch 87/100\n",
      "18633/18633 [==============================] - 84s 5ms/step - loss: 0.6820 - basic_metric: 0.7336 - val_loss: 0.6801 - val_basic_metric: 0.7385\n",
      "Epoch 88/100\n",
      "18633/18633 [==============================] - 84s 4ms/step - loss: 0.6820 - basic_metric: 0.7336 - val_loss: 0.6842 - val_basic_metric: 0.7384\n",
      "Epoch 89/100\n",
      "18633/18633 [==============================] - 85s 5ms/step - loss: 0.6819 - basic_metric: 0.7367 - val_loss: 0.6829 - val_basic_metric: 0.7338\n",
      "Epoch 90/100\n",
      "18633/18633 [==============================] - 84s 5ms/step - loss: 0.6819 - basic_metric: 0.7350 - val_loss: 0.6826 - val_basic_metric: 0.7338\n",
      "Epoch 91/100\n",
      "18633/18633 [==============================] - 79s 4ms/step - loss: 0.6818 - basic_metric: 0.7359 - val_loss: 0.6826 - val_basic_metric: 0.7358\n",
      "Epoch 92/100\n",
      "18633/18633 [==============================] - 80s 4ms/step - loss: 0.6817 - basic_metric: 0.7364 - val_loss: 0.6801 - val_basic_metric: 0.7365\n",
      "Epoch 93/100\n",
      "18633/18633 [==============================] - 85s 5ms/step - loss: 0.6817 - basic_metric: 0.7357 - val_loss: 0.6810 - val_basic_metric: 0.7332\n",
      "Epoch 94/100\n",
      "18633/18633 [==============================] - 84s 4ms/step - loss: 0.6818 - basic_metric: 0.7363 - val_loss: 0.6805 - val_basic_metric: 0.7383\n",
      "Epoch 95/100\n",
      "18633/18633 [==============================] - 83s 4ms/step - loss: 0.6817 - basic_metric: 0.7373 - val_loss: 0.6828 - val_basic_metric: 0.7348\n",
      "Epoch 96/100\n",
      "18633/18633 [==============================] - 84s 4ms/step - loss: 0.6818 - basic_metric: 0.7364 - val_loss: 0.6823 - val_basic_metric: 0.7312\n",
      "Epoch 97/100\n",
      "18633/18633 [==============================] - 85s 5ms/step - loss: 0.6818 - basic_metric: 0.7361 - val_loss: 0.6809 - val_basic_metric: 0.7371\n",
      "Epoch 98/100\n",
      "18633/18633 [==============================] - 84s 4ms/step - loss: 0.6817 - basic_metric: 0.7364 - val_loss: 0.6813 - val_basic_metric: 0.7344\n",
      "Epoch 99/100\n",
      "18633/18633 [==============================] - 84s 4ms/step - loss: 0.6818 - basic_metric: 0.7371 - val_loss: 0.6812 - val_basic_metric: 0.7349\n",
      "Epoch 100/100\n",
      "18633/18633 [==============================] - 88s 5ms/step - loss: 0.6817 - basic_metric: 0.7374 - val_loss: 0.6810 - val_basic_metric: 0.7326\n"
     ]
    }
   ],
   "source": [
    "fit_history = model.fit(data_generator_train, epochs=build_config['epochs'], validation_data=data_generator_test, callbacks=callbacks)"
   ]
  },
  {
   "cell_type": "code",
   "execution_count": 22,
   "metadata": {},
   "outputs": [],
   "source": [
    "import pandas as pd\n",
    "pd.DataFrame(fit_history.history).to_csv(f\"./history/{config['name']}.csv\")"
   ]
  },
  {
   "cell_type": "code",
   "execution_count": 23,
   "metadata": {},
   "outputs": [],
   "source": [
    "model.save_weights(f\"weights/{config['name']}\")"
   ]
  },
  {
   "cell_type": "code",
   "execution_count": 24,
   "metadata": {},
   "outputs": [
    {
     "name": "stdout",
     "output_type": "stream",
     "text": [
      "CPU times: user 31.1 s, sys: 1.82 s, total: 32.9 s\n",
      "Wall time: 25.3 s\n"
     ]
    }
   ],
   "source": [
    "%%time\n",
    "query_generator = my_data.get_query_generator(inds_test, X_test, y_test, min_length=0, drop_all_zeros=False, only_one_sample=False)\n",
    "preds = model.predict(query_generator)\n",
    "df_res = my_data.get_submit(preds, inds_test)"
   ]
  },
  {
   "cell_type": "code",
   "execution_count": 25,
   "metadata": {},
   "outputs": [],
   "source": [
    "df_res.to_csv(f\"data/{config['name']}.csv\", index=False)"
   ]
  },
  {
   "cell_type": "code",
   "execution_count": 26,
   "metadata": {},
   "outputs": [],
   "source": [
    "message = config['description']\n",
    "fname = config['submit']"
   ]
  },
  {
   "cell_type": "code",
   "execution_count": 27,
   "metadata": {},
   "outputs": [],
   "source": [
    "# !kaggle competitions submit -c learning-to-rank-made-fall-2019 -f $fname -m $message"
   ]
  },
  {
   "cell_type": "code",
   "execution_count": null,
   "metadata": {},
   "outputs": [],
   "source": []
  }
 ],
 "metadata": {
  "kernelspec": {
   "display_name": "Python 3",
   "language": "python",
   "name": "python3"
  },
  "language_info": {
   "codemirror_mode": {
    "name": "ipython",
    "version": 3
   },
   "file_extension": ".py",
   "mimetype": "text/x-python",
   "name": "python",
   "nbconvert_exporter": "python",
   "pygments_lexer": "ipython3",
   "version": "3.7.4"
  }
 },
 "nbformat": 4,
 "nbformat_minor": 4
}
