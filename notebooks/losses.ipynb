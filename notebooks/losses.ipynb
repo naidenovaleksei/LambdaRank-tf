{
 "cells": [
  {
   "cell_type": "code",
   "execution_count": 1,
   "metadata": {},
   "outputs": [],
   "source": [
    "import numpy as np\n",
    "import tensorflow as tf\n",
    "import nn\n",
    "import nn_debug"
   ]
  },
  {
   "cell_type": "markdown",
   "metadata": {},
   "source": [
    "## data"
   ]
  },
  {
   "cell_type": "code",
   "execution_count": 2,
   "metadata": {},
   "outputs": [],
   "source": [
    "s = np.array([2, 2, 2, 3])\n",
    "h = np.array([0.146667883, -0.0871001333, 0.308514476, -0.0197103918])\n",
    "s_tf = tf.Variable(s[:,np.newaxis], dtype=tf.float32)\n",
    "h_tf = tf.Variable(h[:,np.newaxis], dtype=tf.float32)"
   ]
  },
  {
   "cell_type": "markdown",
   "metadata": {},
   "source": [
    "# loss - ranknet"
   ]
  },
  {
   "cell_type": "code",
   "execution_count": 3,
   "metadata": {},
   "outputs": [],
   "source": [
    "loss_function = nn.get_loss_function(\"ranknet\")"
   ]
  },
  {
   "cell_type": "markdown",
   "metadata": {},
   "source": [
    "## gradient (tape)"
   ]
  },
  {
   "cell_type": "code",
   "execution_count": 4,
   "metadata": {},
   "outputs": [
    {
     "data": {
      "text/plain": [
       "<tf.Tensor: shape=(4, 1), dtype=float32, numpy=\n",
       "array([[ 1.1186054],\n",
       "       [ 0.654696 ],\n",
       "       [ 1.438669 ],\n",
       "       [-3.2119703]], dtype=float32)>"
      ]
     },
     "execution_count": 4,
     "metadata": {},
     "output_type": "execute_result"
    }
   ],
   "source": [
    "with tf.GradientTape() as g:\n",
    "    g.watch(s_tf)\n",
    "    g.watch(h_tf)\n",
    "    loss = loss_function(s_tf, h_tf)\n",
    "g.gradient(loss, h_tf)"
   ]
  },
  {
   "cell_type": "markdown",
   "metadata": {},
   "source": [
    "## gradient (analytic)"
   ]
  },
  {
   "cell_type": "code",
   "execution_count": 5,
   "metadata": {},
   "outputs": [],
   "source": [
    "@tf.function()\n",
    "def get_C_term_dev_tf(s, h):\n",
    "    S_ij = tf.cast(tf.math.sign(s - tf.squeeze(s, 1)), tf.float32)\n",
    "    delta_h = tf.cast(h - tf.squeeze(h, 1), tf.float32)\n",
    "    C_term_dev = (1 - S_ij) / 2 - 1 / (1 + tf.math.exp(delta_h))\n",
    "    C_term_dev = tf.reduce_sum(C_term_dev, 1, keepdims=True)\n",
    "    return C_term_dev"
   ]
  },
  {
   "cell_type": "code",
   "execution_count": 6,
   "metadata": {},
   "outputs": [
    {
     "data": {
      "text/plain": [
       "<tf.Tensor: shape=(4, 1), dtype=float32, numpy=\n",
       "array([[ 1.1186054],\n",
       "       [ 0.6546962],\n",
       "       [ 1.4386692],\n",
       "       [-3.2119706]], dtype=float32)>"
      ]
     },
     "execution_count": 6,
     "metadata": {},
     "output_type": "execute_result"
    }
   ],
   "source": [
    "2 * get_C_term_dev_tf(s_tf, h_tf)"
   ]
  },
  {
   "cell_type": "markdown",
   "metadata": {},
   "source": [
    "# loss - lambdarank"
   ]
  },
  {
   "cell_type": "markdown",
   "metadata": {},
   "source": [
    "## gradient (tape)"
   ]
  },
  {
   "cell_type": "code",
   "execution_count": 7,
   "metadata": {},
   "outputs": [],
   "source": [
    "loss_function = nn.get_loss_function(\"lambdarank\")"
   ]
  },
  {
   "cell_type": "code",
   "execution_count": 8,
   "metadata": {},
   "outputs": [
    {
     "data": {
      "text/plain": [
       "<tf.Tensor: shape=(4, 1), dtype=float32, numpy=\n",
       "array([[ 0.02427023],\n",
       "       [ 0.0114659 ],\n",
       "       [ 0.09950132],\n",
       "       [-0.13523746]], dtype=float32)>"
      ]
     },
     "execution_count": 8,
     "metadata": {},
     "output_type": "execute_result"
    }
   ],
   "source": [
    "with tf.GradientTape() as g:\n",
    "    g.watch(s_tf)\n",
    "    g.watch(h_tf)\n",
    "    loss = loss_function(s_tf, h_tf)\n",
    "g.gradient(loss, h_tf)"
   ]
  },
  {
   "cell_type": "markdown",
   "metadata": {},
   "source": [
    "## gradient (analytic)"
   ]
  },
  {
   "cell_type": "code",
   "execution_count": 9,
   "metadata": {},
   "outputs": [],
   "source": [
    "@tf.function()\n",
    "def get_C_term_dev_tf1(s, h):\n",
    "    S_ij = tf.cast(tf.math.sign(s - tf.squeeze(s, 1)), tf.float32)\n",
    "    delta_h = tf.cast(h - tf.squeeze(h, 1), tf.float32)\n",
    "    C_term_dev = (1 - S_ij) / 2 - 1 / (1 + tf.math.exp(delta_h))\n",
    "    C_term_dev *= tf.abs(nn.get_delta_ndcg(s, h))\n",
    "    C_term_dev = tf.reduce_sum(C_term_dev, 1, keepdims=True)\n",
    "    return C_term_dev"
   ]
  },
  {
   "cell_type": "code",
   "execution_count": 10,
   "metadata": {},
   "outputs": [
    {
     "data": {
      "text/plain": [
       "<tf.Tensor: shape=(4, 1), dtype=float32, numpy=\n",
       "array([[ 0.02427023],\n",
       "       [ 0.0114659 ],\n",
       "       [ 0.09950132],\n",
       "       [-0.13523746]], dtype=float32)>"
      ]
     },
     "execution_count": 10,
     "metadata": {},
     "output_type": "execute_result"
    }
   ],
   "source": [
    "get_C_term_dev_tf1(s_tf, h_tf)"
   ]
  },
  {
   "cell_type": "code",
   "execution_count": 12,
   "metadata": {},
   "outputs": [],
   "source": [
    "# https://www.cs.cmu.edu/~pinard/Papers/sigirfp092-donmez.pdf\n",
    "@tf.function()\n",
    "def get_C_term_dev_tf2(s, h):\n",
    "    S_ij = tf.cast(tf.math.sign(s - tf.squeeze(s, 1)), tf.float32)\n",
    "    delta_h = tf.cast(h - tf.squeeze(h, 1), tf.float32)\n",
    "    C_term_dev = S_ij * tf.abs(nn.get_delta_ndcg(s_tf, h_tf) * 1 / (1 + tf.math.exp(S_ij * delta_h)))\n",
    "    C_term_dev = tf.reduce_sum(C_term_dev, 1, keepdims=True)\n",
    "    return C_term_dev"
   ]
  },
  {
   "cell_type": "code",
   "execution_count": 13,
   "metadata": {},
   "outputs": [
    {
     "data": {
      "text/plain": [
       "<tf.Tensor: shape=(4, 1), dtype=float32, numpy=\n",
       "array([[-0.02427023],\n",
       "       [-0.0114659 ],\n",
       "       [-0.09950131],\n",
       "       [ 0.13523744]], dtype=float32)>"
      ]
     },
     "execution_count": 13,
     "metadata": {},
     "output_type": "execute_result"
    }
   ],
   "source": [
    "get_C_term_dev_tf2(s_tf, h_tf)"
   ]
  },
  {
   "cell_type": "code",
   "execution_count": 14,
   "metadata": {},
   "outputs": [],
   "source": [
    "# https://www.microsoft.com/en-us/research/wp-content/uploads/2016/02/lambdarank.pdf\n",
    "@tf.function()\n",
    "def get_C_term_dev_tf3(s, h):\n",
    "    S_ij = tf.cast(tf.math.sign(s - tf.squeeze(s, 1)), tf.float32)\n",
    "    delta_h = tf.cast(h - tf.squeeze(h, 1), tf.float32)\n",
    "    C_term_dev = (1 - S_ij) / 2 - 1 / (1 + tf.math.exp(delta_h))\n",
    "    C_term_dev *= nn.get_delta_ndcg(s_tf, h_tf)\n",
    "    C_term_dev = tf.reduce_sum(C_term_dev, 1, keepdims=True)\n",
    "    return C_term_dev"
   ]
  },
  {
   "cell_type": "code",
   "execution_count": 15,
   "metadata": {},
   "outputs": [
    {
     "data": {
      "text/plain": [
       "<tf.Tensor: shape=(4, 1), dtype=float32, numpy=\n",
       "array([[-0.02427023],\n",
       "       [ 0.0114659 ],\n",
       "       [-0.09950131],\n",
       "       [ 0.11230564]], dtype=float32)>"
      ]
     },
     "execution_count": 15,
     "metadata": {},
     "output_type": "execute_result"
    }
   ],
   "source": [
    "get_C_term_dev_tf3(s_tf, h_tf)"
   ]
  }
 ],
 "metadata": {
  "kernelspec": {
   "display_name": "Python 3",
   "language": "python",
   "name": "python3"
  },
  "language_info": {
   "codemirror_mode": {
    "name": "ipython",
    "version": 3
   },
   "file_extension": ".py",
   "mimetype": "text/x-python",
   "name": "python",
   "nbconvert_exporter": "python",
   "pygments_lexer": "ipython3",
   "version": "3.7.4"
  }
 },
 "nbformat": 4,
 "nbformat_minor": 4
}
