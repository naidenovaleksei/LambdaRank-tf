{
 "cells": [
  {
   "cell_type": "code",
   "execution_count": 1,
   "metadata": {},
   "outputs": [],
   "source": [
    "import numpy as np\n",
    "import tensorflow as tf\n",
    "import nn\n",
    "import nn_debug"
   ]
  },
  {
   "cell_type": "markdown",
   "metadata": {},
   "source": [
    "## data"
   ]
  },
  {
   "cell_type": "code",
   "execution_count": 2,
   "metadata": {},
   "outputs": [],
   "source": [
    "s = np.array([2, 2, 2, 3])\n",
    "h = np.random.normal(size=4)\n",
    "# h = np.array([0.146667883, -0.0871001333, 0.308514476, -0.0197103918])\n",
    "s_tf = tf.Variable(s[:,np.newaxis], dtype=tf.float32)\n",
    "h_tf = tf.Variable(h[:,np.newaxis], dtype=tf.float32)"
   ]
  },
  {
   "cell_type": "markdown",
   "metadata": {},
   "source": [
    "# loss - lambdarank"
   ]
  },
  {
   "cell_type": "markdown",
   "metadata": {},
   "source": [
    "## gradient (tape)"
   ]
  },
  {
   "cell_type": "markdown",
   "metadata": {},
   "source": [
    "### as is - no"
   ]
  },
  {
   "cell_type": "code",
   "execution_count": 3,
   "metadata": {},
   "outputs": [],
   "source": [
    "loss_function = nn.get_loss_function(\"lambdarank\")"
   ]
  },
  {
   "cell_type": "code",
   "execution_count": 4,
   "metadata": {},
   "outputs": [
    {
     "data": {
      "text/plain": [
       "<tf.Tensor: shape=(4, 1), dtype=float32, numpy=\n",
       "array([[ 0.20678273],\n",
       "       [ 0.06932775],\n",
       "       [ 0.02377368],\n",
       "       [-0.29988414]], dtype=float32)>"
      ]
     },
     "execution_count": 4,
     "metadata": {},
     "output_type": "execute_result"
    }
   ],
   "source": [
    "with tf.GradientTape() as g:\n",
    "    g.watch(s_tf)\n",
    "    g.watch(h_tf)\n",
    "    loss = loss_function(s_tf, h_tf)\n",
    "g.gradient(loss, h_tf)"
   ]
  },
  {
   "cell_type": "markdown",
   "metadata": {},
   "source": [
    "### stop gradient - no"
   ]
  },
  {
   "cell_type": "code",
   "execution_count": 5,
   "metadata": {},
   "outputs": [],
   "source": [
    "@tf.function\n",
    "def loss_func(s, h):\n",
    "    S_ij = tf.cast(tf.math.sign(s - tf.squeeze(s, 1)), tf.float32)\n",
    "    delta_h = tf.cast(h - tf.squeeze(h, 1), tf.float32)\n",
    "    delta_ndcg = tf.stop_gradient(tf.abs(nn.get_delta_ndcg(s, h)))\n",
    "    P_ij = (1 / 2) * (1 + S_ij)\n",
    "    C = tf.nn.sigmoid_cross_entropy_with_logits(logits=delta_h * delta_ndcg, labels=P_ij)\n",
    "    return C"
   ]
  },
  {
   "cell_type": "code",
   "execution_count": 6,
   "metadata": {},
   "outputs": [
    {
     "data": {
      "text/plain": [
       "<tf.Tensor: shape=(4, 1), dtype=float32, numpy=\n",
       "array([[ 0.20678273],\n",
       "       [ 0.06932775],\n",
       "       [ 0.02377368],\n",
       "       [-0.29988414]], dtype=float32)>"
      ]
     },
     "execution_count": 6,
     "metadata": {},
     "output_type": "execute_result"
    }
   ],
   "source": [
    "with tf.GradientTape() as g:\n",
    "    g.watch(s_tf)\n",
    "    g.watch(h_tf)\n",
    "    loss = loss_func(s_tf, h_tf)\n",
    "g.gradient(loss, h_tf)"
   ]
  },
  {
   "cell_type": "markdown",
   "metadata": {},
   "source": [
    "## gradient (analytic)"
   ]
  },
  {
   "cell_type": "code",
   "execution_count": 9,
   "metadata": {},
   "outputs": [],
   "source": [
    "@tf.function()\n",
    "def get_C_term_dev_tf1(s, h):\n",
    "    S_ij = tf.cast(tf.math.sign(s - tf.squeeze(s, 1)), tf.float32)\n",
    "    delta_h = tf.cast(h - tf.squeeze(h, 1), tf.float32)\n",
    "    C_term_dev = (1 - S_ij) / 2 - 1 / (1 + tf.math.exp(delta_h))\n",
    "    C_term_dev *= tf.abs(nn.get_delta_ndcg(s_tf, h_tf))\n",
    "    C_term_dev = tf.reduce_sum(C_term_dev, 1, keepdims=True)\n",
    "    return C_term_dev"
   ]
  },
  {
   "cell_type": "code",
   "execution_count": 10,
   "metadata": {},
   "outputs": [
    {
     "data": {
      "text/plain": [
       "<tf.Tensor: shape=(4, 1), dtype=float32, numpy=\n",
       "array([[ 0.12702468],\n",
       "       [ 0.03988631],\n",
       "       [ 0.01276071],\n",
       "       [-0.1796717 ]], dtype=float32)>"
      ]
     },
     "execution_count": 10,
     "metadata": {},
     "output_type": "execute_result"
    }
   ],
   "source": [
    "get_C_term_dev_tf1(s_tf, h_tf)"
   ]
  },
  {
   "cell_type": "markdown",
   "metadata": {},
   "source": [
    "### custom gradient - yes!"
   ]
  },
  {
   "cell_type": "code",
   "execution_count": 11,
   "metadata": {},
   "outputs": [],
   "source": [
    "@tf.custom_gradient\n",
    "def loss_func(s, h):\n",
    "    S_ij = tf.cast(tf.math.sign(s - tf.squeeze(s, 1)), tf.float32)\n",
    "    delta_h = tf.cast(h - tf.squeeze(h, 1), tf.float32)\n",
    "    delta_ndcg = tf.stop_gradient(tf.abs(nn.get_delta_ndcg(s, h)))\n",
    "    P_ij = (1 / 2) * (1 + S_ij)\n",
    "    C = tf.nn.sigmoid_cross_entropy_with_logits(logits=delta_h * delta_ndcg, labels=P_ij)\n",
    "    def grad(dy):\n",
    "        return s * dy, get_C_term_dev_tf1(s, h)\n",
    "    return C, grad"
   ]
  },
  {
   "cell_type": "code",
   "execution_count": 12,
   "metadata": {},
   "outputs": [
    {
     "data": {
      "text/plain": [
       "<tf.Tensor: shape=(4, 1), dtype=float32, numpy=\n",
       "array([[ 0.12702468],\n",
       "       [ 0.03988631],\n",
       "       [ 0.01276071],\n",
       "       [-0.1796717 ]], dtype=float32)>"
      ]
     },
     "execution_count": 12,
     "metadata": {},
     "output_type": "execute_result"
    }
   ],
   "source": [
    "with tf.GradientTape() as g:\n",
    "    g.watch(s_tf)\n",
    "    g.watch(h_tf)\n",
    "    loss = loss_func(s_tf, h_tf)\n",
    "g.gradient(loss, h_tf)"
   ]
  }
 ],
 "metadata": {
  "kernelspec": {
   "display_name": "Python 3",
   "language": "python",
   "name": "python3"
  },
  "language_info": {
   "codemirror_mode": {
    "name": "ipython",
    "version": 3
   },
   "file_extension": ".py",
   "mimetype": "text/x-python",
   "name": "python",
   "nbconvert_exporter": "python",
   "pygments_lexer": "ipython3",
   "version": "3.7.4"
  }
 },
 "nbformat": 4,
 "nbformat_minor": 4
}
